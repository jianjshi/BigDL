{
  "nbformat": 4,
  "nbformat_minor": 0,
  "metadata": {
    "colab": {
      "name": "MNIST Dense Neural Network",
      "version": "0.3.2",
      "provenance": [],
      "collapsed_sections": [],
      "include_colab_link": true
    },
    "kernelspec": {
      "name": "python3",
      "display_name": "Python 3"
    },
    "accelerator": "GPU"
  },
  "cells": [
    {
      "cell_type": "markdown",
      "metadata": {
        "id": "view-in-github",
        "colab_type": "text"
      },
      "source": [
        "<a href=\"https://colab.research.google.com/github/jianjshi/BigDL/blob/master/MNIST_Dense_Neural_Network.ipynb\" target=\"_parent\"><img src=\"https://colab.research.google.com/assets/colab-badge.svg\" alt=\"Open In Colab\"/></a>"
      ]
    },
    {
      "metadata": {
        "id": "pxdpBCEoZEMr",
        "colab_type": "text"
      },
      "cell_type": "markdown",
      "source": [
        "## **NOTE:** The code below indicates the libraries needed to run a fully connected neural network. \n",
        "### Text in orange explains each code line and the related import files. \n",
        "\n",
        "### **DEFINITIONS: **\n",
        "\n",
        "**Dense**: A normal feed-forward layer, composed of plain neurons.\n",
        "\n",
        "**Dropout**:  The process of turning off a percentage of the weights in a layer during training. This prevents the network from overfitting.\n",
        "\n",
        "**Flatten**: The process of flattening a 2d array into a 1d list. This is used if we have an array that we want to feed into a dense layer.\n",
        "\n",
        "**Activation Function**: In each neuron, this is a function that basically serves to normalize the values passing through the network. Each value that passes through a neuron is run through this function.\n",
        "\n",
        "**Conv2D**: A 2D convolutional layer - used for convolving on images + feature maps.\n",
        "\n",
        "**MaxPooling2D**: A method of shrinking 2D arrays inside of the network. It can half the size of an array by looking at nearby values and only keeping larger values\n",
        "\n",
        "**MaxPooling1D**: The same process as Max Pooling in 2D, except in 1D (think applied to a list of numbers)\n",
        "\n",
        "**Keras**: The neural network library that has all of these different types of layers, and that lets us compose a network from them and train it."
      ]
    },
    {
      "metadata": {
        "id": "TPcE-cf03x1G",
        "colab_type": "code",
        "colab": {}
      },
      "cell_type": "code",
      "source": [
        "from __future__ import print_function\n",
        "import keras # a machine learning library that lets you create neural networks\n",
        "from keras.datasets import mnist # the needed dataset\n",
        "from keras.models import Sequential \n",
        "from keras.layers import Dense, Dropout, Flatten, Activation # importing different types of layers that you can use with your model\n",
        "from keras.layers import Conv2D, MaxPooling2D, MaxPooling1D # same as above\n",
        "from keras import backend as K\n",
        "import random # lets us generate random numbers - used when looking at random entries from the dataset.\n",
        "import matplotlib # lets us display images\n",
        "import numpy as np # library for delaing with arrays of numbers - the data is represented as an array\n",
        "import tensorflow as tf # the backend machine learning library that keras relies on\n",
        "import matplotlib.pyplot as plt #for charts at end"
      ],
      "execution_count": 0,
      "outputs": []
    },
    {
      "metadata": {
        "id": "u9ykG_EHxT5y",
        "colab_type": "text"
      },
      "cell_type": "markdown",
      "source": [
        "## NOTE: This line downloads the dataset and stores it in the x_train, y_train, x_test, and y_test variables\n"
      ]
    },
    {
      "metadata": {
        "id": "vk-aKTUq37Mp",
        "colab_type": "code",
        "colab": {}
      },
      "cell_type": "code",
      "source": [
        "(x_train, y_train), (x_test, y_test) = mnist.load_data() # downloading the MNIST dataset"
      ],
      "execution_count": 0,
      "outputs": []
    },
    {
      "metadata": {
        "id": "5akbAznfazjP",
        "colab_type": "text"
      },
      "cell_type": "markdown",
      "source": [
        "## NOTE: We visualize the data as hand-drawn numbers. The computer repackages this into data that it can understand. This data is aggregated together in the form of an array (also known as a matrix). "
      ]
    },
    {
      "metadata": {
        "id": "x3t0zsXPrQmH",
        "colab_type": "text"
      },
      "cell_type": "markdown",
      "source": [
        "# Visualization of the MNIST data\n",
        "\n",
        "What you see:\n",
        "\n",
        "![img](https://www.tensorflow.org/versions/r0.11/images/MNIST.png)\n",
        "\n",
        "What the network \"sees\":\n",
        "\n",
        "![img](https://www.tensorflow.org/versions/r0.11/images/MNIST-Matrix.png)"
      ]
    },
    {
      "metadata": {
        "id": "I_Mgr7tEaC97",
        "colab_type": "text"
      },
      "cell_type": "markdown",
      "source": [
        "## NOTE: Run this chunk of code to look at a random entry in the MNIST dataset, and it's accompanying ground truth (the picture of a number will be accompanied by the text of the digit corresponding to that number.)\n",
        "\n",
        "### Ex. a drawing of a 3 will be accompanied by a 3. "
      ]
    },
    {
      "metadata": {
        "id": "s0mE6Rw3rU4r",
        "colab_type": "code",
        "outputId": "56d7e4de-cc2e-4eb6-8003-5299196031f3",
        "colab": {
          "base_uri": "https://localhost:8080/",
          "height": 372
        }
      },
      "cell_type": "code",
      "source": [
        "# Run this cell to look at a random entry in the dataset!\n",
        "ind = random.choice(range(len(x_train)))\n",
        "matplotlib.pyplot.matshow(x_train[ind])\n",
        "print(\"The ground truth for this entry is: \" + str((y_train[ind])))\n"
      ],
      "execution_count": 0,
      "outputs": [
        {
          "output_type": "stream",
          "text": [
            "The ground truth for this entry is: 9\n"
          ],
          "name": "stdout"
        },
        {
          "output_type": "display_data",
          "data": {
            "image/png": "[encoded data removed]",
            "text/plain": [
              "<matplotlib.figure.Figure at 0x7f6e360ca898>"
            ]
          },
          "metadata": {
            "tags": []
          }
        }
      ]
    },
    {
      "metadata": {
        "id": "8iev2tXGaOBS",
        "colab_type": "text"
      },
      "cell_type": "markdown",
      "source": [
        "## NOTE: This chunk of code defines some parameters for training.\n",
        "\n",
        "### **DEFINITIONS:**\n",
        "\n",
        "**Batch Size**: How many handwritten digits the network calculates the error for before performing backpropagation (Backpropagation is the process of adjusting all of the weights of the network to minimize error in the network's predictions. Read more [here](https://en.wikipedia.org/wiki/Backpropagation).)\n",
        "\n",
        "**num_classes**: how many types of numbers there are in the dataset (10) - used to determine how many neurons are in the last layer of the neural network\n",
        "\n",
        "**epochs**: how many times the network will look at and train on the entire dataset. For example, if you set epochs = 2, the network will iterate over and train on the entire dataset two times. More epochs usually mean better accuracy, but at the cost of time.\n"
      ]
    },
    {
      "metadata": {
        "id": "1Q22VwhX38Uo",
        "colab_type": "code",
        "colab": {}
      },
      "cell_type": "code",
      "source": [
        "# just defining some parameters to train the network\n",
        "batch_size = 128\n",
        "num_classes = 10 # how many different \"classes\" of numbers there are\n",
        "epochs = 5 # how many times the network will look at the entire dataset"
      ],
      "execution_count": 0,
      "outputs": []
    },
    {
      "metadata": {
        "id": "Fsl7cjoXxd4q",
        "colab_type": "text"
      },
      "cell_type": "markdown",
      "source": [
        "## NOTE: The following two chunks of code help prepare the MNIST data into the right shape and format for the network to train on.\n",
        "\n",
        "You can think of \"shape\" as the length of a list of numbers, or the height and width of a 2D grid of numbers (an array), or the height, width, and depth of a 3D grid of numbers (a tensor).\n",
        "\n",
        "The network needs data with a specific input shape.\n",
        "\n",
        "Our data is represented as one channel, which means that the input image is black and white. Generally a total of three channels exist for RGB images (we typically see 1 or 3 for images, as images are either black & white or RGB). Our data is tranformed into a 28x28 image which means that our picture is an array with a length of 28 and a height of 28, and each value in that array corresponds to the brightness of that pixel. The shape is (28x28x1) - with the 1 designating the channel.\n",
        "\n",
        "\n",
        "The code below ensures that the MNIST data conforms to the proper desired format."
      ]
    },
    {
      "metadata": {
        "id": "3pmTy4WP39hn",
        "colab_type": "code",
        "colab": {}
      },
      "cell_type": "code",
      "source": [
        "img_rows, img_cols = 28, 28 # the \"shape\" of the input data; we need to define that the images are 28x28, "
      ],
      "execution_count": 0,
      "outputs": []
    },
    {
      "metadata": {
        "id": "vKyX4Tya3-Zv",
        "colab_type": "code",
        "colab": {}
      },
      "cell_type": "code",
      "source": [
        "if K.image_data_format() == 'channels_first': # code for flattening the images into 28x28x1 (black and white) instead of 28x28x3 (rgb full color images)\n",
        "    x_train = x_train.reshape(x_train.shape[0], 1, img_rows, img_cols)\n",
        "    x_test = x_test.reshape(x_test.shape[0], 1, img_rows, img_cols)\n",
        "    input_shape = (1, img_rows, img_cols)\n",
        "else:\n",
        "    x_train = x_train.reshape(x_train.shape[0], img_rows, img_cols, 1)\n",
        "    x_test = x_test.reshape(x_test.shape[0], img_rows, img_cols, 1)\n",
        "input_shape = (img_rows, img_cols, 1)"
      ],
      "execution_count": 0,
      "outputs": []
    },
    {
      "metadata": {
        "id": "2R_RYuFvxkxG",
        "colab_type": "text"
      },
      "cell_type": "markdown",
      "source": [
        "## NOTE: The network needs an array of values between 0 and 1. In normal images, each pixel is represented by a value between 0 and 255 (0 for black, 255 for white). All that we're doing in this line of code is dividing each number in the image by 255 - so that now the scale will be 0 for black, and 1 for white."
      ]
    },
    {
      "metadata": {
        "id": "JHL9_0sE3_1Q",
        "colab_type": "code",
        "outputId": "60f3d508-21de-430e-b979-0eb1376e2177",
        "colab": {
          "base_uri": "https://localhost:8080/",
          "height": 68
        }
      },
      "cell_type": "code",
      "source": [
        "x_train = x_train.astype('float32')\n",
        "x_test = x_test.astype('float32')\n",
        "x_train /= 255\n",
        "x_test /= 255\n",
        "print('x_train shape:', x_train.shape)\n",
        "print(x_train.shape[0], 'numbers the network will learn from (train on)')\n",
        "print(x_test.shape[0], 'numbers the network will not learn from (will only be used for testing)')"
      ],
      "execution_count": 0,
      "outputs": [
        {
          "output_type": "stream",
          "text": [
            "x_train shape: (60000, 28, 28, 1)\n",
            "60000 numbers the network will learn from (train on)\n",
            "10000 numbers the network will not learn from (will only be used for testing)\n"
          ],
          "name": "stdout"
        }
      ]
    },
    {
      "metadata": {
        "id": "hQMRbujdxoS1",
        "colab_type": "text"
      },
      "cell_type": "markdown",
      "source": [
        "### Applying One hot encoding for the data\n",
        "    One hot encoding basically is this,\n",
        "For example you have digits 0 to 9 in your data and every image corresponds to a digit such as 3\n",
        "In order to make this data understandable by the neural network we need to convert our 3 to one hot encoding which is,\n",
        "One Hot : \t[0 0 0 1 0 0 0 0 0 0]\n",
        "Normal :\t[0 1 2 3 4 5 6 7 8 9]"
      ]
    },
    {
      "metadata": {
        "id": "tczq1zJJ4Bd0",
        "colab_type": "code",
        "colab": {}
      },
      "cell_type": "code",
      "source": [
        "# One hot encoding\n",
        "y_train = keras.utils.to_categorical(y_train, num_classes)\n",
        "y_test = keras.utils.to_categorical(y_test, num_classes)"
      ],
      "execution_count": 0,
      "outputs": []
    },
    {
      "metadata": {
        "id": "fytNaqPMy0uf",
        "colab_type": "text"
      },
      "cell_type": "markdown",
      "source": [
        "## Creating the actual NN"
      ]
    },
    {
      "metadata": {
        "id": "OAdmYFuWO6lP",
        "colab_type": "text"
      },
      "cell_type": "markdown",
      "source": [
        "## Basic dense network\n",
        "\n",
        "`model.add(Flatten(input_shape=input_shape))`\n",
        "\n",
        "This line just flattens the 2D input to a 1D list of numbers that you can feed into a fully connected layer.\n",
        "\n",
        "\n",
        "`model.add(Dense(128))`\n",
        "\n",
        "The 128 in this line is just how many neurons are in that layer.\n",
        "\n",
        "**DEFINITIONS**:\n",
        "\n",
        "**dense**: a linear network operation.\n",
        "\n",
        "**sigmoid**: wide s-shaped function (slide 44 of 70 [link text](https://www.slideshare.net/GauravMittal68/convolutional-neural-networks-cnn))\n",
        "\n",
        "**tanh**: narrow s-shaped function (slide 44 of 70 [link text](https://www.slideshare.net/GauravMittal68/convolutional-neural-networks-cnn))\n",
        "\n",
        "**linear**: ReLU (slide 44 of 70 [link text](https://www.slideshare.net/GauravMittal68/convolutional-neural-networks-cnn))\n",
        "\n"
      ]
    },
    {
      "metadata": {
        "id": "p5P1W5284GnQ",
        "colab_type": "code",
        "outputId": "a4faf857-d65e-4fbb-827c-ba7992dc4edf",
        "colab": {
          "base_uri": "https://localhost:8080/",
          "height": 448
        }
      },
      "cell_type": "code",
      "source": [
        "model = Sequential()\n",
        "\n",
        "# your neural network goes here:\n",
        "# ----------------------------- #\n",
        "\n",
        "\n",
        "model.add(Flatten(input_shape=input_shape))\n",
        "model.add(Dense(128, activation='tanh'))\n",
        "model.add(Dense(128, activation='sigmoid'))\n",
        "model.add(Dense(128, activation='sigmoid'))\n",
        "model.add(Dense(128, activation='relu'))\n",
        "model.add(Dense(128))\n",
        "\n",
        "#model.add(Dense(units=64, activation='relu', input_dim=100))\n",
        "model.add(Dense(num_classes, activation=Activation(tf.nn.softmax)))\n",
        "\n",
        "\n",
        "# ----------------------------- #\n",
        "# end your neural network\n",
        "\n",
        "model.summary()"
      ],
      "execution_count": 0,
      "outputs": [
        {
          "output_type": "stream",
          "text": [
            "_________________________________________________________________\n",
            "Layer (type)                 Output Shape              Param #   \n",
            "=================================================================\n",
            "flatten_2 (Flatten)          (None, 784)               0         \n",
            "_________________________________________________________________\n",
            "dense_7 (Dense)              (None, 128)               100480    \n",
            "_________________________________________________________________\n",
            "dense_8 (Dense)              (None, 128)               16512     \n",
            "_________________________________________________________________\n",
            "dense_9 (Dense)              (None, 128)               16512     \n",
            "_________________________________________________________________\n",
            "dense_10 (Dense)             (None, 128)               16512     \n",
            "_________________________________________________________________\n",
            "dense_11 (Dense)             (None, 128)               16512     \n",
            "_________________________________________________________________\n",
            "dense_12 (Dense)             (None, 10)                1290      \n",
            "=================================================================\n",
            "Total params: 167,818\n",
            "Trainable params: 167,818\n",
            "Non-trainable params: 0\n",
            "_________________________________________________________________\n"
          ],
          "name": "stdout"
        },
        {
          "output_type": "stream",
          "text": [
            "/usr/local/lib/python3.6/dist-packages/keras/activations.py:211: UserWarning: Do not pass a layer instance (such as Activation) as the activation argument of another layer. Instead, advanced activation layers should be used just like any other layer in a model.\n",
            "  identifier=identifier.__class__.__name__))\n"
          ],
          "name": "stderr"
        }
      ]
    },
    {
      "metadata": {
        "id": "uJxeGY6wy9SY",
        "colab_type": "text"
      },
      "cell_type": "markdown",
      "source": [
        "## NOTE: Compiling the model: this is where we define the loss function (how the network calculates error)."
      ]
    },
    {
      "metadata": {
        "id": "xf9mmKWK4QMh",
        "colab_type": "code",
        "colab": {}
      },
      "cell_type": "code",
      "source": [
        "model.compile(loss=keras.losses.categorical_crossentropy,\n",
        "              optimizer=keras.optimizers.Adadelta(),\n",
        "metrics=['accuracy'])"
      ],
      "execution_count": 0,
      "outputs": []
    },
    {
      "metadata": {
        "id": "quByYJe-gyUJ",
        "colab_type": "text"
      },
      "cell_type": "markdown",
      "source": [
        "## NOTE: Training the Model: next we want to train our model on the data set that we imported earlier in the code. "
      ]
    },
    {
      "metadata": {
        "id": "hRMGGn5g4RdW",
        "colab_type": "code",
        "outputId": "876dd487-120b-4fc5-cf97-9b06bdc12206",
        "colab": {
          "base_uri": "https://localhost:8080/",
          "height": 939
        }
      },
      "cell_type": "code",
      "source": [
        "history = model.fit(x_train, y_train,\n",
        "          batch_size=batch_size,\n",
        "          epochs=epochs,\n",
        "          verbose=1,\n",
        "validation_data=(x_test, y_test))\n",
        "\n",
        "import matplotlib.pyplot as plt\n",
        "\n",
        "print(history.history.keys())\n",
        "# summarize history for accuracy\n",
        "plt.plot(history.history['acc'])\n",
        "plt.plot(history.history['val_acc'])\n",
        "plt.title('model accuracy')\n",
        "plt.ylabel('accuracy')\n",
        "plt.xlabel('epoch')\n",
        "plt.legend(['train', 'test'], loc='upper left')\n",
        "plt.show()\n",
        "# summarize history for loss\n",
        "plt.plot(history.history['loss'])\n",
        "plt.plot(history.history['val_loss'])\n",
        "plt.title('model loss')\n",
        "plt.ylabel('loss')\n",
        "plt.xlabel('step')\n",
        "plt.legend(['train', 'test'], loc='upper left')\n",
        "plt.show()"
      ],
      "execution_count": 0,
      "outputs": [
        {
          "output_type": "stream",
          "text": [
            "Train on 60000 samples, validate on 10000 samples\n",
            "Epoch 1/5\n",
            "60000/60000 [==============================] - 5s 78us/step - loss: 0.7059 - acc: 0.7622 - val_loss: 0.2792 - val_acc: 0.9175\n",
            "Epoch 2/5\n",
            "60000/60000 [==============================] - 4s 74us/step - loss: 0.2392 - acc: 0.9290 - val_loss: 0.1956 - val_acc: 0.9388\n",
            "Epoch 3/5\n",
            "60000/60000 [==============================] - 4s 74us/step - loss: 0.1614 - acc: 0.9514 - val_loss: 0.1441 - val_acc: 0.9576\n",
            "Epoch 4/5\n",
            "60000/60000 [==============================] - 4s 74us/step - loss: 0.1249 - acc: 0.9626 - val_loss: 0.1297 - val_acc: 0.9598\n",
            "Epoch 5/5\n",
            "60000/60000 [==============================] - 4s 74us/step - loss: 0.1014 - acc: 0.9685 - val_loss: 0.1111 - val_acc: 0.9662\n",
            "dict_keys(['val_loss', 'val_acc', 'loss', 'acc'])\n"
          ],
          "name": "stdout"
        },
        {
          "output_type": "display_data",
          "data": {
            "image/png": "[encoded data removed]",
            "text/plain": [
              "<matplotlib.figure.Figure at 0x7f6e30044438>"
            ]
          },
          "metadata": {
            "tags": []
          }
        },
        {
          "output_type": "display_data",
          "data": {
            "image/png": "[encoded data removed]",
            "text/plain": [
              "<matplotlib.figure.Figure at 0x7f6e1f532eb8>"
            ]
          },
          "metadata": {
            "tags": []
          }
        }
      ]
    },
    {
      "metadata": {
        "id": "2kDDUrAag_YE",
        "colab_type": "text"
      },
      "cell_type": "markdown",
      "source": [
        "## NOTE: Evaluating the network: finally we want to evaluate the model to see how accurate it was in its predictive capabilities. \n",
        "\n",
        "**Test loss**: error that the network has on the test set measured as the distance metric from the desired outcome and the predicted outcome. \n",
        "\n",
        "**Test accuracy**: how accurate the network's prediction was on the data set it was presented with. "
      ]
    },
    {
      "metadata": {
        "id": "R6U6JC6Z4Scj",
        "colab_type": "code",
        "outputId": "fe4c4f84-56f0-41a9-d585-f9ee2c51454e",
        "colab": {
          "base_uri": "https://localhost:8080/",
          "height": 51
        }
      },
      "cell_type": "code",
      "source": [
        "score = model.evaluate(x_test, y_test, verbose=0)\n",
        "print('Test loss:', score[0])\n",
        "print('Test accuracy:', score[1])"
      ],
      "execution_count": 0,
      "outputs": [
        {
          "output_type": "stream",
          "text": [
            "Test loss: 0.11110153986178338\n",
            "Test accuracy: 0.9662\n"
          ],
          "name": "stdout"
        }
      ]
    }
  ]
}